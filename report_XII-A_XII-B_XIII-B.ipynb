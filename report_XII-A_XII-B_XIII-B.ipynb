{
  "nbformat": 4,
  "nbformat_minor": 0,
  "metadata": {
    "colab": {
      "provenance": []
    },
    "kernelspec": {
      "name": "python3",
      "display_name": "Python 3"
    }
  },
  "cells": [
    {
      "cell_type": "markdown",
      "metadata": {
        "id": "jaeqy3WhYbK3"
      },
      "source": [
        "# 数値解析2020 レポート\n",
        "\n",
        "\n",
        "**XII-A.**\n"
      ]
    },
    {
      "cell_type": "markdown",
      "metadata": {
        "id": "6oMty-RaogOy"
      },
      "source": [
        "以下Python3を用いたプログラム例を示す。"
      ]
    },
    {
      "cell_type": "code",
      "metadata": {
        "id": "mMdicca6YOfm",
        "colab": {
          "base_uri": "https://localhost:8080/"
        },
        "outputId": "079303d6-7386-41b9-e9a4-7b5f3b936ddc"
      },
      "source": [
        "# Pythonのバージョン確認\n",
        "import sys\n",
        "print(sys.version)"
      ],
      "execution_count": null,
      "outputs": [
        {
          "output_type": "stream",
          "text": [
            "3.6.9 (default, Oct  8 2020, 12:12:24) \n",
            "[GCC 8.4.0]\n"
          ],
          "name": "stdout"
        }
      ]
    },
    {
      "cell_type": "markdown",
      "metadata": {
        "id": "FJ_aTbBV3eef"
      },
      "source": [
        "# XII-A 表示用コード"
      ]
    },
    {
      "cell_type": "code",
      "metadata": {
        "colab": {
          "base_uri": "https://localhost:8080/"
        },
        "id": "nbIP19hW3gxt",
        "outputId": "880541da-abc0-4f6b-929a-4ab36f96a538"
      },
      "source": [
        "import numpy as np\n",
        "\n",
        "h = 0.01\n",
        "n = 1000\n",
        "\n",
        "t = 0\n",
        "y = 1\n",
        "\n",
        "for i in range(n):\n",
        "    y = y + y * h\n",
        "    t += h\n",
        "\n",
        "print(t, y)\n",
        "print(abs(y-np.exp(10))/np.exp(10))"
      ],
      "execution_count": null,
      "outputs": [
        {
          "output_type": "stream",
          "text": [
            "9.999999999999831 20959.15563781363\n",
            "0.04845580616227286\n"
          ],
          "name": "stdout"
        }
      ]
    },
    {
      "cell_type": "markdown",
      "metadata": {
        "id": "ktwZETqM-sR_"
      },
      "source": [
        "# XII-B 表示用コード"
      ]
    },
    {
      "cell_type": "code",
      "metadata": {
        "colab": {
          "base_uri": "https://localhost:8080/"
        },
        "id": "jkmkWS224qI8",
        "outputId": "589cae14-7ecb-4197-9afc-6cd2a14dc2e1"
      },
      "source": [
        "import numpy as np\n",
        "\n",
        "h = 0.01\n",
        "n = 1000\n",
        "\n",
        "t = 0\n",
        "y = 1\n",
        "for i in range(n):\n",
        "    v1 = y * h\n",
        "    v2 = (y + v1/2) * h\n",
        "    v3 = (y + v2/2) * h\n",
        "    v4 = (y + v3) * h\n",
        "    y = y + (1/6)*(v1 + 2*(v2 + v3) + v4)\n",
        "    t += h\n",
        "\n",
        "print(t, y)\n",
        "print(abs(y-np.exp(10))/np.exp(10))"
      ],
      "execution_count": null,
      "outputs": [
        {
          "output_type": "stream",
          "text": [
            "9.999999999999831 22026.465776603676\n",
            "8.264168142289631e-10\n"
          ],
          "name": "stdout"
        }
      ]
    },
    {
      "cell_type": "markdown",
      "metadata": {
        "id": "e8OLO1UmSTUH"
      },
      "source": [
        "# XIII-B 表示用コード"
      ]
    },
    {
      "cell_type": "code",
      "metadata": {
        "colab": {
          "base_uri": "https://localhost:8080/"
        },
        "id": "cjUgB53TSUit",
        "outputId": "831cad51-c45e-48b9-e60f-27eb50e419a2"
      },
      "source": [
        "import numpy as np\n",
        "\n",
        "h = 0.01\n",
        "n = 1000\n",
        "\n",
        "t = 0\n",
        "x = 1\n",
        "v = np.sin(h/2.)\n",
        "ans_x = np.cos(10)\n",
        "ans_v = - np.sin(10)\n",
        "\n",
        "for i in range(n):\n",
        "    v = v - x * h\n",
        "    x = x + v * h\n",
        "    t += h\n",
        "\n",
        "print(t, x, abs(x-ans_x)/abs(ans_x), v - x * h / 2, abs(v - x * h /2.  - ans_v)/abs(ans_v))"
      ],
      "execution_count": null,
      "outputs": [
        {
          "output_type": "stream",
          "text": [
            "9.999999999999831 -0.839048849212152 2.702971500588655e-05 0.5440492888608972 5.1795731752700956e-05\n"
          ],
          "name": "stdout"
        }
      ]
    },
    {
      "cell_type": "code",
      "metadata": {
        "id": "-wHcjIxjTwBt"
      },
      "source": [],
      "execution_count": null,
      "outputs": []
    }
  ]
}